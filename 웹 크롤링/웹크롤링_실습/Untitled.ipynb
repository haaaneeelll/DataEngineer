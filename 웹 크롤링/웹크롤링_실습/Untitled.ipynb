{
 "cells": [
  {
   "cell_type": "code",
   "execution_count": 25,
   "id": "6f8aad25",
   "metadata": {},
   "outputs": [],
   "source": [
    "import urllib.request as req"
   ]
  },
  {
   "cell_type": "code",
   "execution_count": 26,
   "id": "863438fb",
   "metadata": {},
   "outputs": [],
   "source": [
    "img_url = \"https://search.pstatic.net/sunny/?src=https%3A%2F%2Fi.pinimg.com%2Foriginals%2F21%2Ff9%2F83%2F21f98377d0d9f9efc27dfc19323d2c95.jpg&type=sc960_832\"\n",
    "html_url = \"http://google.com\""
   ]
  },
  {
   "cell_type": "code",
   "execution_count": 27,
   "id": "819a31c8",
   "metadata": {},
   "outputs": [],
   "source": [
    "save_path1 = \"/Users/haneul/Desktop/웹 크롤링\"\n",
    "save_path2 = \"/Users/haneul/Desktop/웹 크롤링\""
   ]
  },
  {
   "cell_type": "code",
   "execution_count": 28,
   "id": "185fec09",
   "metadata": {},
   "outputs": [
    {
     "name": "stdout",
     "output_type": "stream",
     "text": [
      "Download failed.\n",
      "[Errno 21] Is a directory: '/Users/haneul/Desktop/웹 크롤링'\n"
     ]
    }
   ],
   "source": [
    "try:\n",
    "    file1, header1 = req.urlretrieve(img_url, save_path1)\n",
    "    file2, header2 = req.urlretrieve(html_url, save_path2)\n",
    "except Exception as e:\n",
    "    print(\"Download failed.\")\n",
    "    print(e)\n",
    "else:\n",
    "     print(header1)\n",
    "     print(header2)"
   ]
  }
 ],
 "metadata": {
  "kernelspec": {
   "display_name": "Python 3 (ipykernel)",
   "language": "python",
   "name": "python3"
  },
  "language_info": {
   "codemirror_mode": {
    "name": "ipython",
    "version": 3
   },
   "file_extension": ".py",
   "mimetype": "text/x-python",
   "name": "python",
   "nbconvert_exporter": "python",
   "pygments_lexer": "ipython3",
   "version": "3.10.9"
  }
 },
 "nbformat": 4,
 "nbformat_minor": 5
}
